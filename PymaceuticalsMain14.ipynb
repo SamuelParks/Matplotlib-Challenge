{
 "cells": [
  {
   "cell_type": "code",
   "execution_count": null,
   "metadata": {},
   "outputs": [],
   "source": [
    "# Observations of Notebook for Matplotlib Homework\n",
    "\n",
    "# Instructions: Look across all previously generated figures and tables and write at least three observations or inferences that can be made from the data. Include these observations at the top of notebook.\n",
    "\n",
    "# Response:\n",
    "\n",
    "# 1. The number of mice involved in the study declines as the timepoints increase. Presumably, this is because the mice are dying before reaching Timepoint 45. (However, the information doesn't specify this anywhere.)\n",
    "\n",
    "# 2. Nearly all of the mice in the Capomulin drug regimen remained until Timepoint 45, and it had the lowest average final tumor size of the best performing drugs. It is overall, the best performing drug in the study.\n",
    "\n",
    "# 3. The correlation of the average tumor volume vs. weight in mice in the Capomulin regimen is 0.84, but that means that the r-squared is 0.706. That means that roughly 30% is not well represented by the best-fit line that we added the scatterplot\n"
   ]
  },
  {
   "cell_type": "code",
   "execution_count": 81,
   "metadata": {},
   "outputs": [
    {
     "data": {
      "text/html": [
       "<div>\n",
       "<style scoped>\n",
       "    .dataframe tbody tr th:only-of-type {\n",
       "        vertical-align: middle;\n",
       "    }\n",
       "\n",
       "    .dataframe tbody tr th {\n",
       "        vertical-align: top;\n",
       "    }\n",
       "\n",
       "    .dataframe thead th {\n",
       "        text-align: right;\n",
       "    }\n",
       "</style>\n",
       "<table border=\"1\" class=\"dataframe\">\n",
       "  <thead>\n",
       "    <tr style=\"text-align: right;\">\n",
       "      <th></th>\n",
       "      <th>Mouse ID</th>\n",
       "      <th>Drug Regimen</th>\n",
       "      <th>Sex</th>\n",
       "      <th>Age_months</th>\n",
       "      <th>Weight (g)</th>\n",
       "      <th>Timepoint</th>\n",
       "      <th>Tumor Volume (mm3)</th>\n",
       "      <th>Metastatic Sites</th>\n",
       "    </tr>\n",
       "  </thead>\n",
       "  <tbody>\n",
       "    <tr>\n",
       "      <th>0</th>\n",
       "      <td>k403</td>\n",
       "      <td>Ramicane</td>\n",
       "      <td>Male</td>\n",
       "      <td>21</td>\n",
       "      <td>16</td>\n",
       "      <td>0</td>\n",
       "      <td>45.000000</td>\n",
       "      <td>0</td>\n",
       "    </tr>\n",
       "    <tr>\n",
       "      <th>1</th>\n",
       "      <td>k403</td>\n",
       "      <td>Ramicane</td>\n",
       "      <td>Male</td>\n",
       "      <td>21</td>\n",
       "      <td>16</td>\n",
       "      <td>5</td>\n",
       "      <td>38.825898</td>\n",
       "      <td>0</td>\n",
       "    </tr>\n",
       "    <tr>\n",
       "      <th>2</th>\n",
       "      <td>k403</td>\n",
       "      <td>Ramicane</td>\n",
       "      <td>Male</td>\n",
       "      <td>21</td>\n",
       "      <td>16</td>\n",
       "      <td>10</td>\n",
       "      <td>35.014271</td>\n",
       "      <td>1</td>\n",
       "    </tr>\n",
       "    <tr>\n",
       "      <th>3</th>\n",
       "      <td>k403</td>\n",
       "      <td>Ramicane</td>\n",
       "      <td>Male</td>\n",
       "      <td>21</td>\n",
       "      <td>16</td>\n",
       "      <td>15</td>\n",
       "      <td>34.223992</td>\n",
       "      <td>1</td>\n",
       "    </tr>\n",
       "    <tr>\n",
       "      <th>4</th>\n",
       "      <td>k403</td>\n",
       "      <td>Ramicane</td>\n",
       "      <td>Male</td>\n",
       "      <td>21</td>\n",
       "      <td>16</td>\n",
       "      <td>20</td>\n",
       "      <td>32.997729</td>\n",
       "      <td>1</td>\n",
       "    </tr>\n",
       "  </tbody>\n",
       "</table>\n",
       "</div>"
      ],
      "text/plain": [
       "  Mouse ID Drug Regimen   Sex  Age_months  Weight (g)  Timepoint  \\\n",
       "0     k403     Ramicane  Male          21          16          0   \n",
       "1     k403     Ramicane  Male          21          16          5   \n",
       "2     k403     Ramicane  Male          21          16         10   \n",
       "3     k403     Ramicane  Male          21          16         15   \n",
       "4     k403     Ramicane  Male          21          16         20   \n",
       "\n",
       "   Tumor Volume (mm3)  Metastatic Sites  \n",
       "0           45.000000                 0  \n",
       "1           38.825898                 0  \n",
       "2           35.014271                 1  \n",
       "3           34.223992                 1  \n",
       "4           32.997729                 1  "
      ]
     },
     "execution_count": 81,
     "metadata": {},
     "output_type": "execute_result"
    }
   ],
   "source": [
    "# Some lines for this cell provided by starter file\n",
    "\n",
    "# Dependencies and Setup\n",
    "import matplotlib.pyplot as plt\n",
    "import pandas as pd\n",
    "import scipy.stats as st\n",
    "import numpy as np\n",
    "\n",
    "# Study data files\n",
    "mouse_metadata_path = \"./data/Mouse_metadata.csv\"\n",
    "study_results_path = \"./data/Study_results.csv\"\n",
    "\n",
    "# Read the mouse data and the study results\n",
    "mouse_metadata = pd.read_csv(mouse_metadata_path)\n",
    "study_results = pd.read_csv(study_results_path)\n",
    "\n",
    "# Combine the data into a single dataset\"\n",
    "comb_df =  pd.merge(mouse_metadata, study_results, how=\"outer\", on=[\"Mouse ID\"], suffixes=(\"_metadata_file\", \"_results_file\"))\n",
    "comb_df.head()"
   ]
  },
  {
   "cell_type": "code",
   "execution_count": 82,
   "metadata": {},
   "outputs": [
    {
     "data": {
      "text/plain": [
       "249"
      ]
     },
     "execution_count": 82,
     "metadata": {},
     "output_type": "execute_result"
    }
   ],
   "source": [
    "# Checking the number of mice in the DataFrame.\n",
    "\n",
    "num_mice_dirty=len(comb_df[\"Mouse ID\"].unique())\n",
    "num_mice_dirty"
   ]
  },
  {
   "cell_type": "code",
   "execution_count": 83,
   "metadata": {},
   "outputs": [],
   "source": [
    "# Getting the duplicate mice by ID number that shows up for Mouse ID and Timepoint. \n",
    "\n",
    "duplicate_mice_series = comb_df[comb_df.duplicated([\"Mouse ID\",\"Timepoint\"])]"
   ]
  },
  {
   "cell_type": "code",
   "execution_count": 84,
   "metadata": {},
   "outputs": [
    {
     "data": {
      "text/html": [
       "<div>\n",
       "<style scoped>\n",
       "    .dataframe tbody tr th:only-of-type {\n",
       "        vertical-align: middle;\n",
       "    }\n",
       "\n",
       "    .dataframe tbody tr th {\n",
       "        vertical-align: top;\n",
       "    }\n",
       "\n",
       "    .dataframe thead th {\n",
       "        text-align: right;\n",
       "    }\n",
       "</style>\n",
       "<table border=\"1\" class=\"dataframe\">\n",
       "  <thead>\n",
       "    <tr style=\"text-align: right;\">\n",
       "      <th></th>\n",
       "      <th>Mouse ID</th>\n",
       "      <th>Drug Regimen</th>\n",
       "      <th>Sex</th>\n",
       "      <th>Age_months</th>\n",
       "      <th>Weight (g)</th>\n",
       "      <th>Timepoint</th>\n",
       "      <th>Tumor Volume (mm3)</th>\n",
       "      <th>Metastatic Sites</th>\n",
       "    </tr>\n",
       "  </thead>\n",
       "  <tbody>\n",
       "    <tr>\n",
       "      <th>909</th>\n",
       "      <td>g989</td>\n",
       "      <td>Propriva</td>\n",
       "      <td>Female</td>\n",
       "      <td>21</td>\n",
       "      <td>26</td>\n",
       "      <td>0</td>\n",
       "      <td>45.000000</td>\n",
       "      <td>0</td>\n",
       "    </tr>\n",
       "    <tr>\n",
       "      <th>911</th>\n",
       "      <td>g989</td>\n",
       "      <td>Propriva</td>\n",
       "      <td>Female</td>\n",
       "      <td>21</td>\n",
       "      <td>26</td>\n",
       "      <td>5</td>\n",
       "      <td>47.570392</td>\n",
       "      <td>0</td>\n",
       "    </tr>\n",
       "    <tr>\n",
       "      <th>913</th>\n",
       "      <td>g989</td>\n",
       "      <td>Propriva</td>\n",
       "      <td>Female</td>\n",
       "      <td>21</td>\n",
       "      <td>26</td>\n",
       "      <td>10</td>\n",
       "      <td>49.880528</td>\n",
       "      <td>0</td>\n",
       "    </tr>\n",
       "    <tr>\n",
       "      <th>915</th>\n",
       "      <td>g989</td>\n",
       "      <td>Propriva</td>\n",
       "      <td>Female</td>\n",
       "      <td>21</td>\n",
       "      <td>26</td>\n",
       "      <td>15</td>\n",
       "      <td>53.442020</td>\n",
       "      <td>0</td>\n",
       "    </tr>\n",
       "    <tr>\n",
       "      <th>917</th>\n",
       "      <td>g989</td>\n",
       "      <td>Propriva</td>\n",
       "      <td>Female</td>\n",
       "      <td>21</td>\n",
       "      <td>26</td>\n",
       "      <td>20</td>\n",
       "      <td>54.657650</td>\n",
       "      <td>1</td>\n",
       "    </tr>\n",
       "  </tbody>\n",
       "</table>\n",
       "</div>"
      ],
      "text/plain": [
       "    Mouse ID Drug Regimen     Sex  Age_months  Weight (g)  Timepoint  \\\n",
       "909     g989     Propriva  Female          21          26          0   \n",
       "911     g989     Propriva  Female          21          26          5   \n",
       "913     g989     Propriva  Female          21          26         10   \n",
       "915     g989     Propriva  Female          21          26         15   \n",
       "917     g989     Propriva  Female          21          26         20   \n",
       "\n",
       "     Tumor Volume (mm3)  Metastatic Sites  \n",
       "909           45.000000                 0  \n",
       "911           47.570392                 0  \n",
       "913           49.880528                 0  \n",
       "915           53.442020                 0  \n",
       "917           54.657650                 1  "
      ]
     },
     "execution_count": 84,
     "metadata": {},
     "output_type": "execute_result"
    }
   ],
   "source": [
    "# Optional: Get all the data for the duplicate mouse ID. \n",
    "\n",
    "duplicate_mice_series"
   ]
  },
  {
   "cell_type": "code",
   "execution_count": 85,
   "metadata": {},
   "outputs": [
    {
     "data": {
      "text/plain": [
       "'g989'"
      ]
     },
     "execution_count": 85,
     "metadata": {},
     "output_type": "execute_result"
    }
   ],
   "source": [
    "# Create a clean DataFrame by dropping the duplicate mouse by its ID.\n",
    "dropped_dup_df=comb_df.copy()\n",
    "\n",
    "mouse_with_dup_ID, =duplicate_mice_series[\"Mouse ID\"].unique()\n",
    "mouse_with_dup_ID"
   ]
  },
  {
   "cell_type": "code",
   "execution_count": 86,
   "metadata": {},
   "outputs": [],
   "source": [
    "# This deletes all rows with Mouse ID column equal to the ID of the mouse with duplicate issues \n",
    "mouse_with_dup_index = dropped_dup_df[dropped_dup_df[\"Mouse ID\"] == mouse_with_dup_ID].index\n",
    "mouse_with_dup_index\n",
    "\n",
    "# dropped_dup_df=comb_df\n",
    "dropped_dup_df.drop(mouse_with_dup_index , inplace=True)\n",
    "\n"
   ]
  },
  {
   "cell_type": "code",
   "execution_count": 87,
   "metadata": {},
   "outputs": [
    {
     "data": {
      "text/plain": [
       "248"
      ]
     },
     "execution_count": 87,
     "metadata": {},
     "output_type": "execute_result"
    }
   ],
   "source": [
    "# Checking the number of mice in the clean DataFrame.\n",
    "num_mice_clean=len(dropped_dup_df[\"Mouse ID\"].unique())\n",
    "num_mice_clean"
   ]
  },
  {
   "cell_type": "code",
   "execution_count": 88,
   "metadata": {},
   "outputs": [],
   "source": [
    "# Generate a summary statistics table of mean, median, variance, standard deviation, and SEM of the tumor volume for each regimen\n",
    "\n",
    "# This method is the most straighforward, creating multiple series and putting them all together at the end.\n",
    "\n",
    "clean_df_groups=dropped_dup_df.groupby(['Drug Regimen'])"
   ]
  },
  {
   "cell_type": "code",
   "execution_count": 89,
   "metadata": {},
   "outputs": [],
   "source": [
    "ave_series=clean_df_groups[\"Tumor Volume (mm3)\"].mean()"
   ]
  },
  {
   "cell_type": "code",
   "execution_count": 90,
   "metadata": {},
   "outputs": [],
   "source": [
    "median_series=clean_df_groups[\"Tumor Volume (mm3)\"].median()"
   ]
  },
  {
   "cell_type": "code",
   "execution_count": 91,
   "metadata": {},
   "outputs": [],
   "source": [
    "var_series=clean_df_groups[\"Tumor Volume (mm3)\"].var()"
   ]
  },
  {
   "cell_type": "code",
   "execution_count": 92,
   "metadata": {},
   "outputs": [],
   "source": [
    "std_series=clean_df_groups[\"Tumor Volume (mm3)\"].std()"
   ]
  },
  {
   "cell_type": "code",
   "execution_count": 93,
   "metadata": {},
   "outputs": [],
   "source": [
    "sem_series=clean_df_groups[\"Tumor Volume (mm3)\"].sem()"
   ]
  },
  {
   "cell_type": "code",
   "execution_count": 94,
   "metadata": {},
   "outputs": [
    {
     "data": {
      "text/html": [
       "<div>\n",
       "<style scoped>\n",
       "    .dataframe tbody tr th:only-of-type {\n",
       "        vertical-align: middle;\n",
       "    }\n",
       "\n",
       "    .dataframe tbody tr th {\n",
       "        vertical-align: top;\n",
       "    }\n",
       "\n",
       "    .dataframe thead th {\n",
       "        text-align: right;\n",
       "    }\n",
       "</style>\n",
       "<table border=\"1\" class=\"dataframe\">\n",
       "  <thead>\n",
       "    <tr style=\"text-align: right;\">\n",
       "      <th></th>\n",
       "      <th>Average</th>\n",
       "      <th>Median</th>\n",
       "      <th>Variance</th>\n",
       "      <th>Standard Deviation</th>\n",
       "      <th>Standard Error of the Mean</th>\n",
       "    </tr>\n",
       "    <tr>\n",
       "      <th>Drug Regimen</th>\n",
       "      <th></th>\n",
       "      <th></th>\n",
       "      <th></th>\n",
       "      <th></th>\n",
       "      <th></th>\n",
       "    </tr>\n",
       "  </thead>\n",
       "  <tbody>\n",
       "    <tr>\n",
       "      <th>Capomulin</th>\n",
       "      <td>40.675741</td>\n",
       "      <td>41.557809</td>\n",
       "      <td>24.947764</td>\n",
       "      <td>4.994774</td>\n",
       "      <td>0.329346</td>\n",
       "    </tr>\n",
       "    <tr>\n",
       "      <th>Ceftamin</th>\n",
       "      <td>52.591172</td>\n",
       "      <td>51.776157</td>\n",
       "      <td>39.290177</td>\n",
       "      <td>6.268188</td>\n",
       "      <td>0.469821</td>\n",
       "    </tr>\n",
       "    <tr>\n",
       "      <th>Infubinol</th>\n",
       "      <td>52.884795</td>\n",
       "      <td>51.820584</td>\n",
       "      <td>43.128684</td>\n",
       "      <td>6.567243</td>\n",
       "      <td>0.492236</td>\n",
       "    </tr>\n",
       "    <tr>\n",
       "      <th>Ketapril</th>\n",
       "      <td>55.235638</td>\n",
       "      <td>53.698743</td>\n",
       "      <td>68.553577</td>\n",
       "      <td>8.279709</td>\n",
       "      <td>0.603860</td>\n",
       "    </tr>\n",
       "    <tr>\n",
       "      <th>Naftisol</th>\n",
       "      <td>54.331565</td>\n",
       "      <td>52.509285</td>\n",
       "      <td>66.173479</td>\n",
       "      <td>8.134708</td>\n",
       "      <td>0.596466</td>\n",
       "    </tr>\n",
       "    <tr>\n",
       "      <th>Placebo</th>\n",
       "      <td>54.033581</td>\n",
       "      <td>52.288934</td>\n",
       "      <td>61.168083</td>\n",
       "      <td>7.821003</td>\n",
       "      <td>0.581331</td>\n",
       "    </tr>\n",
       "    <tr>\n",
       "      <th>Propriva</th>\n",
       "      <td>52.320930</td>\n",
       "      <td>50.446266</td>\n",
       "      <td>43.852013</td>\n",
       "      <td>6.622085</td>\n",
       "      <td>0.544332</td>\n",
       "    </tr>\n",
       "    <tr>\n",
       "      <th>Ramicane</th>\n",
       "      <td>40.216745</td>\n",
       "      <td>40.673236</td>\n",
       "      <td>23.486704</td>\n",
       "      <td>4.846308</td>\n",
       "      <td>0.320955</td>\n",
       "    </tr>\n",
       "    <tr>\n",
       "      <th>Stelasyn</th>\n",
       "      <td>54.233149</td>\n",
       "      <td>52.431737</td>\n",
       "      <td>59.450562</td>\n",
       "      <td>7.710419</td>\n",
       "      <td>0.573111</td>\n",
       "    </tr>\n",
       "    <tr>\n",
       "      <th>Zoniferol</th>\n",
       "      <td>53.236507</td>\n",
       "      <td>51.818479</td>\n",
       "      <td>48.533355</td>\n",
       "      <td>6.966589</td>\n",
       "      <td>0.516398</td>\n",
       "    </tr>\n",
       "  </tbody>\n",
       "</table>\n",
       "</div>"
      ],
      "text/plain": [
       "                Average     Median   Variance  Standard Deviation  \\\n",
       "Drug Regimen                                                        \n",
       "Capomulin     40.675741  41.557809  24.947764            4.994774   \n",
       "Ceftamin      52.591172  51.776157  39.290177            6.268188   \n",
       "Infubinol     52.884795  51.820584  43.128684            6.567243   \n",
       "Ketapril      55.235638  53.698743  68.553577            8.279709   \n",
       "Naftisol      54.331565  52.509285  66.173479            8.134708   \n",
       "Placebo       54.033581  52.288934  61.168083            7.821003   \n",
       "Propriva      52.320930  50.446266  43.852013            6.622085   \n",
       "Ramicane      40.216745  40.673236  23.486704            4.846308   \n",
       "Stelasyn      54.233149  52.431737  59.450562            7.710419   \n",
       "Zoniferol     53.236507  51.818479  48.533355            6.966589   \n",
       "\n",
       "              Standard Error of the Mean  \n",
       "Drug Regimen                              \n",
       "Capomulin                       0.329346  \n",
       "Ceftamin                        0.469821  \n",
       "Infubinol                       0.492236  \n",
       "Ketapril                        0.603860  \n",
       "Naftisol                        0.596466  \n",
       "Placebo                         0.581331  \n",
       "Propriva                        0.544332  \n",
       "Ramicane                        0.320955  \n",
       "Stelasyn                        0.573111  \n",
       "Zoniferol                       0.516398  "
      ]
     },
     "execution_count": 94,
     "metadata": {},
     "output_type": "execute_result"
    }
   ],
   "source": [
    "# Generate a summary statistics table of mean, median, variance, standard deviation, and SEM of the tumor volume for each regimen\n",
    "\n",
    "summary_stat_table=pd.DataFrame({'Average':ave_series,'Median':median_series,'Variance':var_series, 'Standard Deviation': std_series, 'Standard Error of the Mean': sem_series})\n",
    "summary_stat_table"
   ]
  },
  {
   "cell_type": "code",
   "execution_count": 95,
   "metadata": {},
   "outputs": [],
   "source": [
    "# Section for both of these:\n",
    "# Generate a bar plot showing the number of mice per time point for each treatment throughout the course of the study using pandas. \n",
    "# Generate a bar plot showing the number of mice per time point for each treatment throughout the course of the study using pyplot.\n",
    "\n",
    "# Create our x_axis list\n",
    "x_axis = dropped_dup_df[\"Timepoint\"].unique()\n"
   ]
  },
  {
   "cell_type": "code",
   "execution_count": 96,
   "metadata": {},
   "outputs": [],
   "source": [
    "# Create our y_axis list\n",
    "drug_list = dropped_dup_df[\"Drug Regimen\"].unique()\n",
    "d1,d2,d3,d4,d5,d6,d7,d8,d9,d10=drug_list"
   ]
  },
  {
   "cell_type": "code",
   "execution_count": 97,
   "metadata": {},
   "outputs": [],
   "source": [
    "# Unpacking Drug List\n",
    "\n",
    "d1,d2,d3,d4,d5,d6,d7,d8,d9,d10=drug_list"
   ]
  },
  {
   "cell_type": "code",
   "execution_count": 98,
   "metadata": {},
   "outputs": [],
   "source": [
    "# Filtering to make new df for each drug\n",
    "\n",
    "d1_df = dropped_dup_df.loc[dropped_dup_df[\"Drug Regimen\"] == d1,:]\n",
    "d2_df = dropped_dup_df.loc[dropped_dup_df[\"Drug Regimen\"] == d2,:]\n",
    "d3_df = dropped_dup_df.loc[dropped_dup_df[\"Drug Regimen\"] == d3,:]\n",
    "d4_df = dropped_dup_df.loc[dropped_dup_df[\"Drug Regimen\"] == d4,:]\n",
    "d5_df = dropped_dup_df.loc[dropped_dup_df[\"Drug Regimen\"] == d5,:]\n",
    "d6_df = dropped_dup_df.loc[dropped_dup_df[\"Drug Regimen\"] == d6,:]\n",
    "d7_df = dropped_dup_df.loc[dropped_dup_df[\"Drug Regimen\"] == d7,:]\n",
    "d8_df = dropped_dup_df.loc[dropped_dup_df[\"Drug Regimen\"] == d8,:]\n",
    "d9_df = dropped_dup_df.loc[dropped_dup_df[\"Drug Regimen\"] == d9,:]\n",
    "d10_df = dropped_dup_df.loc[dropped_dup_df[\"Drug Regimen\"] == d10,:]"
   ]
  },
  {
   "cell_type": "code",
   "execution_count": 99,
   "metadata": {},
   "outputs": [],
   "source": [
    "# Create our y_axis list\n",
    "\n",
    "d1_grouptime_df=d1_df.groupby(['Timepoint']).count()\n",
    "d2_grouptime_df=d2_df.groupby(['Timepoint']).count()\n",
    "d3_grouptime_df=d3_df.groupby(['Timepoint']).count()\n",
    "d4_grouptime_df=d4_df.groupby(['Timepoint']).count()\n",
    "d5_grouptime_df=d5_df.groupby(['Timepoint']).count()\n",
    "d6_grouptime_df=d6_df.groupby(['Timepoint']).count()\n",
    "d7_grouptime_df=d7_df.groupby(['Timepoint']).count()\n",
    "d8_grouptime_df=d8_df.groupby(['Timepoint']).count()\n",
    "d9_grouptime_df=d9_df.groupby(['Timepoint']).count()\n",
    "d10_grouptime_df=d10_df.groupby(['Timepoint']).count()\n",
    "\n",
    "d1_y_axis = d1_grouptime_df[\"Mouse ID\"]\n",
    "d2_y_axis = d2_grouptime_df[\"Mouse ID\"]\n",
    "d3_y_axis = d3_grouptime_df[\"Mouse ID\"]\n",
    "d4_y_axis = d4_grouptime_df[\"Mouse ID\"]\n",
    "d5_y_axis = d5_grouptime_df[\"Mouse ID\"]\n",
    "d6_y_axis = d6_grouptime_df[\"Mouse ID\"]\n",
    "d7_y_axis = d7_grouptime_df[\"Mouse ID\"]\n",
    "d8_y_axis = d8_grouptime_df[\"Mouse ID\"]\n",
    "d9_y_axis = d9_grouptime_df[\"Mouse ID\"]\n",
    "d10_y_axis = d10_grouptime_df[\"Mouse ID\"]"
   ]
  },
  {
   "cell_type": "code",
   "execution_count": 100,
   "metadata": {},
   "outputs": [],
   "source": [
    "# Generate a bar plot showing the number of mice per time point for each treatment throughout the course of the study using pandas. \n",
    "\n",
    "# Putting series together to make the appropriate data frame to use Pandas plot\n",
    "\n",
    "Bar_using_Pandas_df=pd.DataFrame({d1:d1_y_axis, d2:d2_y_axis,d3:d3_y_axis,d4:d4_y_axis,d5:d5_y_axis,d6:d6_y_axis,d7:d7_y_axis,d8:d8_y_axis,d9:d9_y_axis,d10:d10_y_axis})"
   ]
  },
  {
   "cell_type": "code",
   "execution_count": 101,
   "metadata": {},
   "outputs": [
    {
     "data": {
      "image/png": "[encoded data removed]",
      "text/plain": [
       "<Figure size 1440x360 with 1 Axes>"
      ]
     },
     "metadata": {
      "needs_background": "light"
     },
     "output_type": "display_data"
    },
    {
     "data": {
      "text/plain": [
       "<Figure size 432x288 with 0 Axes>"
      ]
     },
     "metadata": {},
     "output_type": "display_data"
    }
   ],
   "source": [
    "#This creates the pandas plot bar graph\n",
    "\n",
    "# Pandas can plot multiple columns if the DataFrame includes them\n",
    "multi_plot = Bar_using_Pandas_df.plot(kind=\"bar\", figsize=(20,5))\n",
    "\n",
    "# PandasPlot.set_xticklabels() can be used to set the tick labels as well\n",
    "multi_plot.set_xticklabels(dropped_dup_df[\"Timepoint\"], rotation=0)\n",
    "\n",
    "# Add labels to X and Y axes, the title, and the legend\n",
    "plt.ylabel(\"Number of Mice\")\n",
    "plt.xlabel(\"Timepoint\")\n",
    "plt.title(\"Number of Mice in Study at each Timepoint for each Drug Regimen\")\n",
    "\n",
    "# Put a legend to the right of the current axis\n",
    "plt.legend(loc='center left', bbox_to_anchor=(1, 0.5))\n",
    "\n",
    "plt.show()\n",
    "plt.tight_layout()\n",
    "\n",
    "#Saves Bar Chart to File\n",
    "plt.savefig(\"./Chart-Images/BarFromPandas.png\")"
   ]
  },
  {
   "cell_type": "code",
   "execution_count": 102,
   "metadata": {},
   "outputs": [],
   "source": [
    "# Generate a bar plot showing the number of mice per time point for each treatment throughout the course of the study using pyplot."
   ]
  },
  {
   "cell_type": "code",
   "execution_count": 103,
   "metadata": {},
   "outputs": [
    {
     "data": {
      "text/plain": [
       "Text(0.5, 1.0, 'Number of Mice in Study at each Timepoint for each Drug Regimen')"
      ]
     },
     "execution_count": 103,
     "metadata": {},
     "output_type": "execute_result"
    },
    {
     "data": {
      "image/png": "[encoded data removed]",
      "text/plain": [
       "<Figure size 1440x360 with 1 Axes>"
      ]
     },
     "metadata": {
      "needs_background": "light"
     },
     "output_type": "display_data"
    }
   ],
   "source": [
    "#To make this work with just the pyplot module like the instructions want, I made a bunch of overlapping subplots\n",
    "fig, ax = plt.subplots(figsize=(20,5))\n",
    "\n",
    "#This places the bars next to each other instead of overlapping\n",
    "w=.4\n",
    "\n",
    "plt.xticks(x_axis)\n",
    "bar_d1 =plt.bar(x_axis-2.4, d1_y_axis, alpha=1, align=\"edge\", width=w, label=d1)\n",
    "bar_d2 =plt.bar(x_axis-2, d2_y_axis, alpha=1, align=\"edge\", width=w, label=d2)\n",
    "bar_d3 =plt.bar(x_axis-1.6, d3_y_axis, alpha=1, align=\"edge\", width=w, label=d3)\n",
    "bar_d4 =plt.bar(x_axis-1.2, d4_y_axis, alpha=1, align=\"edge\", width=w, label=d4)\n",
    "bar_d5 =plt.bar(x_axis-.8, d5_y_axis, alpha=1, align=\"edge\", width=w, label=d5)\n",
    "bar_d6 =plt.bar(x_axis-.4, d6_y_axis, alpha=1, align=\"edge\", width=w, label=d6)\n",
    "bar_d7 =plt.bar(x_axis-0, d7_y_axis, alpha=1, align=\"edge\", width=w, label=d7)\n",
    "bar_d8 =plt.bar(x_axis+.4, d8_y_axis, alpha=1, align=\"edge\", width=w, label=d8)\n",
    "bar_d9 =plt.bar(x_axis+.8, d9_y_axis, alpha=1, align=\"edge\", width=w, label=d9)\n",
    "bar_d10 =plt.bar(x_axis+1.2, d10_y_axis, alpha=1, align=\"edge\", width=w, label=d10)\n",
    "\n",
    "# Add labels to X and Y axes, the title, and the legend\n",
    "plt.legend(loc='center left', bbox_to_anchor=(1, 0.5))\n",
    "plt.ylabel(\"Number of Mice\")\n",
    "plt.xlabel(\"Timepoint\")\n",
    "plt.title(\"Number of Mice in Study at each Timepoint for each Drug Regimen\")"
   ]
  },
  {
   "cell_type": "code",
   "execution_count": 104,
   "metadata": {},
   "outputs": [
    {
     "data": {
      "text/plain": [
       "<Figure size 432x288 with 0 Axes>"
      ]
     },
     "metadata": {},
     "output_type": "display_data"
    }
   ],
   "source": [
    "#Saves Bar Chart to File\n",
    "plt.tight_layout()\n",
    "plt.savefig(\"./Chart-Images/BarFromPandas.png\")\n",
    "plt.show()"
   ]
  },
  {
   "cell_type": "code",
   "execution_count": 105,
   "metadata": {},
   "outputs": [],
   "source": [
    "#Start of section for pie charts\n",
    "# Generate a pie plot showing the distribution of female versus male mice using pandas\n",
    "# Generate a pie plot showing the distribution of female versus male mice using pyplot"
   ]
  },
  {
   "cell_type": "code",
   "execution_count": 106,
   "metadata": {},
   "outputs": [],
   "source": [
    "# Creates a series with the number of each sex\n",
    "\n",
    "# This creates a DataFrame with one row per mouse by dropping all but one row per mouse/ID.\n",
    "individual_mice_df = dropped_dup_df.drop_duplicates(\"Mouse ID\")\n"
   ]
  },
  {
   "cell_type": "code",
   "execution_count": 107,
   "metadata": {},
   "outputs": [
    {
     "data": {
      "text/plain": [
       "Male      125\n",
       "Female    123\n",
       "Name: Sex, dtype: int64"
      ]
     },
     "execution_count": 107,
     "metadata": {},
     "output_type": "execute_result"
    }
   ],
   "source": [
    "#NOTE: This does not include the mouse that we were told to remove earlier in the instructions\n",
    "sex_dist_series=individual_mice_df[\"Sex\"].value_counts()\n",
    "sex_dist_series"
   ]
  },
  {
   "cell_type": "code",
   "execution_count": 108,
   "metadata": {},
   "outputs": [
    {
     "data": {
      "text/plain": [
       "Male      125\n",
       "Female    124\n",
       "Name: Sex, dtype: int64"
      ]
     },
     "execution_count": 108,
     "metadata": {},
     "output_type": "execute_result"
    }
   ],
   "source": [
    "#NOTE: This overwrites the sex count above to guse the original data set before the mouse that we were told to remove earlier in the instructions was removed\n",
    "#This is done to be in alignment with the posted answers on Slack\n",
    "\n",
    "individual_mice_df = comb_df.drop_duplicates(\"Mouse ID\")\n",
    "sex_dist_series=individual_mice_df[\"Sex\"].value_counts()\n",
    "sex_dist_series"
   ]
  },
  {
   "cell_type": "code",
   "execution_count": 109,
   "metadata": {},
   "outputs": [],
   "source": [
    "# Generate a pie plot showing the distribution of female versus male mice using pandas\n",
    "\n",
    "# Putting series together to make the appropriate data frame to use Pandas plot\n",
    "Pie_using_Pandas_df=pd.DataFrame(sex_dist_series)"
   ]
  },
  {
   "cell_type": "code",
   "execution_count": 110,
   "metadata": {},
   "outputs": [
    {
     "data": {
      "text/html": [
       "<div>\n",
       "<style scoped>\n",
       "    .dataframe tbody tr th:only-of-type {\n",
       "        vertical-align: middle;\n",
       "    }\n",
       "\n",
       "    .dataframe tbody tr th {\n",
       "        vertical-align: top;\n",
       "    }\n",
       "\n",
       "    .dataframe thead th {\n",
       "        text-align: right;\n",
       "    }\n",
       "</style>\n",
       "<table border=\"1\" class=\"dataframe\">\n",
       "  <thead>\n",
       "    <tr style=\"text-align: right;\">\n",
       "      <th></th>\n",
       "      <th>Sex</th>\n",
       "    </tr>\n",
       "  </thead>\n",
       "  <tbody>\n",
       "    <tr>\n",
       "      <th>Male</th>\n",
       "      <td>125</td>\n",
       "    </tr>\n",
       "    <tr>\n",
       "      <th>Female</th>\n",
       "      <td>124</td>\n",
       "    </tr>\n",
       "  </tbody>\n",
       "</table>\n",
       "</div>"
      ],
      "text/plain": [
       "        Sex\n",
       "Male    125\n",
       "Female  124"
      ]
     },
     "execution_count": 110,
     "metadata": {},
     "output_type": "execute_result"
    }
   ],
   "source": [
    "Pie_using_Pandas_df"
   ]
  },
  {
   "cell_type": "code",
   "execution_count": 111,
   "metadata": {},
   "outputs": [
    {
     "data": {
      "image/png": "[encoded data removed]",
      "text/plain": [
       "<Figure size 1440x360 with 1 Axes>"
      ]
     },
     "metadata": {},
     "output_type": "display_data"
    }
   ],
   "source": [
    "#This is to remove the odd looking legend and label, as well as make the chart\n",
    "\n",
    "Pie_using_Pandas_df.plot(kind=\"pie\", subplots=True, figsize=(20,5), autopct='%1.1f%%', legend=\"\")\n",
    "# Save an image of our chart and print the final product to the screen\n",
    "plt.savefig(\"./Chart-Images/PandaPie.png\")\n",
    "plt.show()"
   ]
  },
  {
   "cell_type": "code",
   "execution_count": 112,
   "metadata": {},
   "outputs": [],
   "source": [
    "# Generate a pie plot showing the distribution of female versus male mice using pyplot\n",
    "\n",
    "# Creates a list for the sex and amounts\n",
    "sex_name = Pie_using_Pandas_df.index.values.tolist()\n",
    "sex_count = Pie_using_Pandas_df[\"Sex\"]"
   ]
  },
  {
   "cell_type": "code",
   "execution_count": 113,
   "metadata": {},
   "outputs": [
    {
     "data": {
      "image/png": "[encoded data removed]",
      "text/plain": [
       "<Figure size 432x288 with 1 Axes>"
      ]
     },
     "metadata": {},
     "output_type": "display_data"
    }
   ],
   "source": [
    "#Set colors to match the method above\n",
    "# The colors of each section of the pie chart\n",
    "colors = [\"blue\", \"orange\"]\n",
    "\n",
    "# Tell matplotlib to create a pie chart based upon the above data\n",
    "plt.pie(sex_count, labels=sex_name, colors=colors,\n",
    "        autopct=\"%1.1f%%\", shadow=True, startangle=0)\n",
    "# Create axes which are equal so we have a perfect circle\n",
    "plt.axis(\"equal\")\n",
    "# Save an image of our chart and print the final product to the screen\n",
    "plt.savefig(\"./Chart-Images/PyPie.png\")\n",
    "plt.show()"
   ]
  },
  {
   "cell_type": "code",
   "execution_count": 114,
   "metadata": {},
   "outputs": [],
   "source": [
    "#* Calculate the final tumor volume of each mouse across four of the most promising treatment regimens: Capomulin, Ramicane, Infubinol, and Ceftamin. Calculate the quartiles and IQR and quantitatively determine if there are any potential outliers across all four treatment regimens\n",
    "# Calculate the final tumor volume of each mouse across four of the most promising treatment regimens. Calculate the IQR and quantitatively determine if there are any potential outliers. \n",
    "\n",
    "#This captures all final timepoint rows that each mouse made it to\n",
    "final_tumor=dropped_dup_df.copy()\n",
    "final_tumor.sort_values(by=['Timepoint'])\n",
    "final_tumor.drop_duplicates(subset =\"Mouse ID\", \n",
    "                     keep = 'last', inplace = True, ignore_index = True) "
   ]
  },
  {
   "cell_type": "code",
   "execution_count": 115,
   "metadata": {},
   "outputs": [],
   "source": [
    "#* Calculate the final tumor volume of each mouse across four of the most promising treatment regimens\n",
    "best_four_final_tumor=final_tumor.loc[(final_tumor[\"Drug Regimen\"]==d1)|(final_tumor[\"Drug Regimen\"]==d2)|(final_tumor[\"Drug Regimen\"]==d3)|(final_tumor[\"Drug Regimen\"]==d5)]"
   ]
  },
  {
   "cell_type": "code",
   "execution_count": 116,
   "metadata": {},
   "outputs": [],
   "source": [
    "# Calculate the IQR and quantitatively determine if there are any potential outliers. \n",
    "#Note: The four most promising drug regimen's were given in the ReadMe file\n",
    "\n",
    "Ramicane_df=best_four_final_tumor.loc[(best_four_final_tumor[\"Drug Regimen\"]==d1)]\n",
    "Capolulin_df=best_four_final_tumor.loc[(best_four_final_tumor[\"Drug Regimen\"]==d2)]\n",
    "Infubinol_df=best_four_final_tumor.loc[(best_four_final_tumor[\"Drug Regimen\"]==d3)]\n",
    "Ceftamin_df=best_four_final_tumor.loc[(best_four_final_tumor[\"Drug Regimen\"]==d5)]"
   ]
  },
  {
   "cell_type": "code",
   "execution_count": 117,
   "metadata": {},
   "outputs": [],
   "source": [
    "def drug_quartiles_report(drug_name, drug_df):\n",
    "    \n",
    "    drug_df_tumor = drug_df[\"Tumor Volume (mm3)\"]\n",
    "    quartiles = drug_df_tumor.quantile([.25,.5,.75])\n",
    "    lowerq = quartiles[0.25]\n",
    "    upperq = quartiles[0.75]\n",
    "    iqr = upperq-lowerq\n",
    "    \n",
    "    lower_bound = lowerq - (1.5*iqr)\n",
    "    upper_bound = upperq + (1.5*iqr)\n",
    "    outliers = drug_df_tumor[(drug_df_tumor>upper_bound)|(drug_df_tumor<lower_bound)]\n",
    "\n",
    "    print(f\"{drug_name}:\")\n",
    "    print(f\"The lower quartile of temperatures is: {lowerq}\")\n",
    "    print(f\"The upper quartile of temperatures is: {upperq}\")\n",
    "    print(f\"The interquartile range of temperatures is: {iqr}\")\n",
    "    print(f\"The the median of temperatures is: {quartiles[0.5]} \")\n",
    "\n",
    "\n",
    "    print(f\"Values below {lower_bound} could be outliers.\")\n",
    "    print(f\"Values above {upper_bound} could be outliers.\")\n",
    "    if not outliers.empty:\n",
    "        print(f\"Specifically, the following index locations and tumor sizes in this data are possible outliers: {outliers}\")\n",
    "    elif outliers.empty:\n",
    "        print(f\"No outliers found\")\n",
    "    print(f\"\")"
   ]
  },
  {
   "cell_type": "code",
   "execution_count": 118,
   "metadata": {},
   "outputs": [
    {
     "name": "stdout",
     "output_type": "stream",
     "text": [
      "Ramicane:\n",
      "The lower quartile of temperatures is: 31.56046955\n",
      "The upper quartile of temperatures is: 40.65900627\n",
      "The interquartile range of temperatures is: 9.098536719999998\n",
      "The the median of temperatures is: 36.56165229 \n",
      "Values below 17.912664470000003 could be outliers.\n",
      "Values above 54.30681135 could be outliers.\n",
      "No outliers found\n",
      "\n",
      "Capolulin:\n",
      "The lower quartile of temperatures is: 32.37735684\n",
      "The upper quartile of temperatures is: 40.1592203\n",
      "The interquartile range of temperatures is: 7.781863460000004\n",
      "The the median of temperatures is: 38.125164399999996 \n",
      "Values below 20.70456164999999 could be outliers.\n",
      "Values above 51.83201549 could be outliers.\n",
      "No outliers found\n",
      "\n",
      "Infubinol:\n",
      "The lower quartile of temperatures is: 54.04860769\n",
      "The upper quartile of temperatures is: 65.52574285\n",
      "The interquartile range of temperatures is: 11.477135160000003\n",
      "The the median of temperatures is: 60.16518046 \n",
      "Values below 36.83290494999999 could be outliers.\n",
      "Values above 82.74144559000001 could be outliers.\n",
      "Specifically, the following index locations and tumor sizes in this data are possible outliers: 74    36.321346\n",
      "Name: Tumor Volume (mm3), dtype: float64\n",
      "\n",
      "Ceftamin:\n",
      "The lower quartile of temperatures is: 48.72207785\n",
      "The upper quartile of temperatures is: 64.29983003\n",
      "The interquartile range of temperatures is: 15.577752179999997\n",
      "The the median of temperatures is: 59.85195552 \n",
      "Values below 25.355449580000002 could be outliers.\n",
      "Values above 87.66645829999999 could be outliers.\n",
      "No outliers found\n",
      "\n"
     ]
    }
   ],
   "source": [
    "#Report for quartiles, IQR, outliers, etc.\n",
    "\n",
    "drug_quartiles_report(\"Ramicane\", Ramicane_df)\n",
    "drug_quartiles_report(\"Capolulin\", Capolulin_df)\n",
    "drug_quartiles_report(\"Infubinol\", Infubinol_df)\n",
    "drug_quartiles_report(\"Ceftamin\", Ceftamin_df)"
   ]
  },
  {
   "cell_type": "code",
   "execution_count": 119,
   "metadata": {},
   "outputs": [
    {
     "data": {
      "image/png": "[encoded data removed]",
      "text/plain": [
       "<Figure size 432x288 with 1 Axes>"
      ]
     },
     "metadata": {
      "needs_background": "light"
     },
     "output_type": "display_data"
    }
   ],
   "source": [
    "#Boxplot using Matplotlib\n",
    "\n",
    "#This line is to make the lables to the x-axis tick labels\n",
    "best_drug_labels = best_four_final_tumor[\"Drug Regimen\"].unique()\n",
    "\n",
    "#This line is to define what the outliers look like\n",
    "outerlier_look = dict(marker='o', markerfacecolor='r', markersize=12, linestyle='none', markeredgecolor='g')\n",
    "\n",
    "Ramicane_tumor = Ramicane_df[\"Tumor Volume (mm3)\"]\n",
    "Capolulin_tumor = Capolulin_df[\"Tumor Volume (mm3)\"]\n",
    "Infubinol_tumor = Infubinol_df[\"Tumor Volume (mm3)\"]\n",
    "Ceftamin_tumor = Ceftamin_df[\"Tumor Volume (mm3)\"]\n",
    "\n",
    "#This pulls in the correct data\n",
    "data = [Ramicane_tumor,Capolulin_tumor,Infubinol_tumor,Capolulin_tumor]\n",
    "\n",
    "#This creates the chart itself\n",
    "fig1, ax1 = plt.subplots()\n",
    "ax1.set_title(f\"Final Tumor Size for Each of the Best Drug Regimens\")\n",
    "ax1.set_ylabel('Final Tumor Volume (mm3)')\n",
    "ax1.boxplot(data, flierprops=outerlier_look)\n",
    "plt.xticks(range(1,5),best_drug_labels)\n",
    "plt.show()"
   ]
  },
  {
   "cell_type": "code",
   "execution_count": 120,
   "metadata": {},
   "outputs": [
    {
     "data": {
      "text/plain": [
       "<matplotlib.axes._subplots.AxesSubplot at 0x214caa2f430>"
      ]
     },
     "execution_count": 120,
     "metadata": {},
     "output_type": "execute_result"
    },
    {
     "data": {
      "image/png": "[encoded data removed]",
      "text/plain": [
       "<Figure size 432x288 with 1 Axes>"
      ]
     },
     "metadata": {
      "needs_background": "light"
     },
     "output_type": "display_data"
    }
   ],
   "source": [
    "# Using Pandas for practice\n",
    "\n",
    "Ramicane_tumor = Ramicane_tumor.reset_index()\n",
    "Capolulin_tumor = Capolulin_tumor.reset_index()\n",
    "Infubinol_tumor = Infubinol_tumor.reset_index()\n",
    "Ceftamin_tumor = Ceftamin_tumor.reset_index()\n",
    "\n",
    "del Ramicane_tumor[\"index\"]\n",
    "del Capolulin_tumor[\"index\"] \n",
    "del Infubinol_tumor[\"index\"]\n",
    "del Ceftamin_tumor[\"index\"] \n",
    "\n",
    "Ramicane_tumor = Ramicane_tumor.iloc[:,0]\n",
    "Capolulin_tumor = Capolulin_tumor.iloc[:,0]\n",
    "Infubinol_tumor = Infubinol_tumor.iloc[:,0]\n",
    "Ceftamin_tumor = Ceftamin_tumor.iloc[:,0]\n",
    "\n",
    "Best_Four_Tumor_Size_df=pd.DataFrame({\"Capolulin\":Capolulin_tumor, \"Ramicane\":Ramicane_tumor, \"Infubinol\":Infubinol_tumor, \"Ceftamin\":Ceftamin_tumor})\n",
    "Best_Four_Tumor_Size_df.boxplot(flierprops = dict(marker='o', markerfacecolor='r', markersize=12,\n",
    "                  linestyle='none', markeredgecolor='g'))"
   ]
  },
  {
   "cell_type": "code",
   "execution_count": 121,
   "metadata": {},
   "outputs": [],
   "source": [
    "# Generate a line plot of time point versus tumor volume for a mouse treated with Capomulin\n",
    "\n",
    "#First, finding a mouse treating with Capomulin until timepoint 45\n",
    "#d2_df was previously defined as being just Capomulin\n",
    "Capolulin_mice_at_45=d2_df.loc[d2_df[\"Timepoint\"]==45,:]\n",
    "\n",
    "#Pulls ID of a Capolulin mouse that made it to timepoint 45 that matches recommendation\n",
    "Capolulin_ex_mouse=Capolulin_mice_at_45.iloc[18,0]"
   ]
  },
  {
   "cell_type": "code",
   "execution_count": 122,
   "metadata": {},
   "outputs": [
    {
     "data": {
      "text/plain": [
       "'l509'"
      ]
     },
     "execution_count": 122,
     "metadata": {},
     "output_type": "execute_result"
    }
   ],
   "source": [
    "Capolulin_ex_mouse"
   ]
  },
  {
   "cell_type": "code",
   "execution_count": 123,
   "metadata": {},
   "outputs": [],
   "source": [
    "#This pulls just the data that we want for the graphs\n",
    "\n",
    "Cap_graph_data=d2_df.loc[d2_df[\"Mouse ID\"]==Capolulin_ex_mouse,:]"
   ]
  },
  {
   "cell_type": "code",
   "execution_count": 124,
   "metadata": {},
   "outputs": [
    {
     "data": {
      "image/png": "[encoded data removed]",
      "text/plain": [
       "<Figure size 432x288 with 1 Axes>"
      ]
     },
     "metadata": {
      "needs_background": "light"
     },
     "output_type": "display_data"
    }
   ],
   "source": [
    "#Line Graph\n",
    "\n",
    "ax = plt.gca()\n",
    "Cap_graph_data.plot(kind='line',x='Timepoint',y='Tumor Volume (mm3)',ax=ax,legend=None)\n",
    "ax.set_title(f\"Capomulin Treatment of Mouse I509\")\n",
    "ax.set_ylabel('Final Tumor Volume (mm3)')\n",
    "plt.show()"
   ]
  },
  {
   "cell_type": "code",
   "execution_count": 125,
   "metadata": {},
   "outputs": [],
   "source": [
    "cap_weight_ave_tumor=d2_df.groupby(['Mouse ID']).mean()"
   ]
  },
  {
   "cell_type": "code",
   "execution_count": 126,
   "metadata": {},
   "outputs": [
    {
     "data": {
      "image/png": "[encoded data removed]",
      "text/plain": [
       "<Figure size 432x288 with 1 Axes>"
      ]
     },
     "metadata": {
      "needs_background": "light"
     },
     "output_type": "display_data"
    }
   ],
   "source": [
    "# Generate a scatter plot of mouse weight versus average tumor volume for the Capomulin regimen\n",
    "\n",
    "#Get approprate data here - not the d2_df is only Capomulin data from above\n",
    "cap_weight_ave_tumor=d2_df.groupby(['Mouse ID']).mean()\n",
    "\n",
    "#Makes scatterplot\n",
    "plt.scatter(cap_weight_ave_tumor['Weight (g)'],cap_weight_ave_tumor['Tumor Volume (mm3)'])\n",
    "plt.xlabel('Weight (g)')\n",
    "plt.ylabel('Average Tumor Volume (mm3)')\n",
    "plt.suptitle(\"Average Tumor Volume vs. Weight in Mice in the Capomulin Regimen\", fontsize=16, fontweight=\"bold\")\n",
    "plt.show()"
   ]
  },
  {
   "cell_type": "code",
   "execution_count": 127,
   "metadata": {},
   "outputs": [
    {
     "name": "stdout",
     "output_type": "stream",
     "text": [
      "The correlation between both factors is 0.84\n"
     ]
    }
   ],
   "source": [
    "# * Calculate the correlation coefficient and linear regression model between mouse weight and average tumor volume for the Capomulin treatment. Plot the linear regression model on top of the previous scatter plot.\n",
    "\n",
    "#This gives the Person's correlations coefficient\n",
    "correlation = st.pearsonr(cap_weight_ave_tumor['Weight (g)'],cap_weight_ave_tumor['Tumor Volume (mm3)'])\n",
    "print(f\"The correlation between both factors is {round(correlation[0],2)}\")"
   ]
  },
  {
   "cell_type": "code",
   "execution_count": 128,
   "metadata": {},
   "outputs": [],
   "source": [
    "# This performs a linear regression on weight versus averagetumor volume\n",
    "WeightTumor_slope, WeightTumor_intercept, WeightTumor_r, WeightTumor_p, WeightTumor_std_err = st.linregress(cap_weight_ave_tumor['Weight (g)'],cap_weight_ave_tumor['Tumor Volume (mm3)'])"
   ]
  },
  {
   "cell_type": "code",
   "execution_count": 129,
   "metadata": {},
   "outputs": [],
   "source": [
    "# Create equation of line to calculate from linear regression\n",
    "WeightTumor_fit = WeightTumor_slope * cap_weight_ave_tumor['Weight (g)'] + WeightTumor_intercept"
   ]
  },
  {
   "cell_type": "code",
   "execution_count": 134,
   "metadata": {},
   "outputs": [
    {
     "data": {
      "image/png": "[encoded data removed]",
      "text/plain": [
       "<Figure size 432x288 with 1 Axes>"
      ]
     },
     "metadata": {
      "needs_background": "light"
     },
     "output_type": "display_data"
    },
    {
     "name": "stdout",
     "output_type": "stream",
     "text": [
      "The correlation between both factors is 0.84\n"
     ]
    }
   ],
   "source": [
    "#Makes scatterplot\n",
    "plt.scatter(cap_weight_ave_tumor['Weight (g)'],cap_weight_ave_tumor['Tumor Volume (mm3)'])\n",
    "plt.plot(cap_weight_ave_tumor['Weight (g)'],WeightTumor_fit,\"--\",color=\"red\")\n",
    "plt.xlabel('Weight (g)')\n",
    "plt.ylabel('Average Tumor Volume (mm3)')\n",
    "plt.suptitle(\"Average Tumor Volume vs. Weight in Mice in the Capomulin Regimen\", fontsize=16, fontweight=\"bold\")\n",
    "plt.show()\n",
    "print(f\"The correlation between both factors is {round(correlation[0],2)}\")"
   ]
  },
  {
   "cell_type": "code",
   "execution_count": null,
   "metadata": {},
   "outputs": [],
   "source": []
  }
 ],
 "metadata": {
  "kernelspec": {
   "display_name": "PythonData",
   "language": "python",
   "name": "pythondata"
  },
  "language_info": {
   "codemirror_mode": {
    "name": "ipython",
    "version": 3
   },
   "file_extension": ".py",
   "mimetype": "text/x-python",
   "name": "python",
   "nbconvert_exporter": "python",
   "pygments_lexer": "ipython3",
   "version": "3.8.2"
  }
 },
 "nbformat": 4,
 "nbformat_minor": 4
}
